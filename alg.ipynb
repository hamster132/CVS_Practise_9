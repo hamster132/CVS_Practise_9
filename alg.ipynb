{
 "cells": [
  {
   "cell_type": "markdown",
   "metadata": {},
   "source": [
    "# **Далеко не самый лучший алгоритм быстрой сортировки(эээ)**"
   ]
  },
  {
   "cell_type": "code",
   "execution_count": null,
   "metadata": {},
   "outputs": [],
   "source": [
    "def QuickSort(arr, reverse=False):\n",
    "    if len(arr)<2:\n",
    "        return arr\n",
    "    opora = arr[len(arr)//2 + len(arr)%2]\n",
    "    left, center, right = [], [], []\n",
    "    for i in arr:\n",
    "        if i<opora:\n",
    "            left.append(i)\n",
    "        elif i==opora:\n",
    "            center.append(i)\n",
    "        else:\n",
    "            right.append(i)\n",
    "    return QuickSort(left) + center + QuickSort(right)"
   ]
  }
 ],
 "metadata": {
  "kernelspec": {
   "display_name": "Python 2",
   "language": "python",
   "name": "python2"
  },
  "language_info": {
   "codemirror_mode": {
    "name": "ipython",
    "version": 2
   },
   "file_extension": ".py",
   "mimetype": "text/x-python",
   "name": "python",
   "nbconvert_exporter": "python",
   "pygments_lexer": "ipython2",
   "version": "2.7.16"
  }
 },
 "nbformat": 4,
 "nbformat_minor": 2
}
